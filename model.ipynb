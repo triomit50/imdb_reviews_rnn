{
 "cells": [
  {
   "cell_type": "markdown",
   "id": "933ef6ff",
   "metadata": {},
   "source": [
    "# Requirements"
   ]
  },
  {
   "cell_type": "code",
   "execution_count": 185,
   "id": "24e552c8",
   "metadata": {},
   "outputs": [],
   "source": [
    "import numpy as np\n",
    "import pandas as pd\n",
    "import seaborn as sns\n",
    "import matplotlib.pyplot as plt\n",
    "import sklearn as sk\n",
    "import nltk\n",
    "import tensorflow as tf\n",
    "from tensorflow.keras.preprocessing.text import one_hot\n",
    "from tensorflow.keras.preprocessing.text import Tokenizer\n",
    "from tensorflow.keras.layers import Embedding,SimpleRNN,Dense,LSTM\n",
    "from tensorflow.keras import Sequential\n",
    "from tensorflow.keras.utils import pad_sequences\n",
    "from tensorflow.keras.callbacks import EarlyStopping\n",
    "from sklearn.model_selection import train_test_split\n",
    "from sklearn.preprocessing import LabelEncoder\n",
    "from tensorflow.keras import regularizers"
   ]
  },
  {
   "cell_type": "markdown",
   "id": "e68e27b2",
   "metadata": {},
   "source": [
    "# Sample One hot encoding of word into vectors"
   ]
  },
  {
   "cell_type": "code",
   "execution_count": 186,
   "id": "9d6f2939",
   "metadata": {},
   "outputs": [],
   "source": [
    "sent=[  'the glass of milk',\n",
    "     'the glass of juice',\n",
    "     'the cup of tea',\n",
    "    'I am a good boy',\n",
    "     'I am a good developer',\n",
    "     'understand the meaning of words',\n",
    "     'your videos are good']\n"
   ]
  },
  {
   "cell_type": "code",
   "execution_count": 187,
   "id": "2b5d26cc",
   "metadata": {},
   "outputs": [],
   "source": [
    "voc = 10000\n",
    "word_vec = []\n",
    "for words in sent:\n",
    "    word_vec.append(one_hot(words,voc))\n",
    "    "
   ]
  },
  {
   "cell_type": "code",
   "execution_count": 188,
   "id": "95f3c678",
   "metadata": {},
   "outputs": [
    {
     "data": {
      "text/plain": [
       "[[1733, 8418, 7196, 2161],\n",
       " [1733, 8418, 7196, 9120],\n",
       " [1733, 3829, 7196, 52],\n",
       " [148, 1504, 8122, 7926, 6283],\n",
       " [148, 1504, 8122, 7926, 5027],\n",
       " [4688, 1733, 411, 7196, 6554],\n",
       " [930, 2709, 3247, 7926]]"
      ]
     },
     "execution_count": 188,
     "metadata": {},
     "output_type": "execute_result"
    }
   ],
   "source": [
    "word_vec"
   ]
  },
  {
   "cell_type": "markdown",
   "id": "cb5722be",
   "metadata": {},
   "source": [
    "## Embedding Layer - Padding the embedded word vec"
   ]
  },
  {
   "cell_type": "code",
   "execution_count": 189,
   "id": "818c5ec0",
   "metadata": {},
   "outputs": [
    {
     "data": {
      "text/plain": [
       "array([[1733, 8418, 7196, 2161,    0,    0,    0],\n",
       "       [1733, 8418, 7196, 9120,    0,    0,    0],\n",
       "       [1733, 3829, 7196,   52,    0,    0,    0],\n",
       "       [ 148, 1504, 8122, 7926, 6283,    0,    0],\n",
       "       [ 148, 1504, 8122, 7926, 5027,    0,    0],\n",
       "       [4688, 1733,  411, 7196, 6554,    0,    0],\n",
       "       [ 930, 2709, 3247, 7926,    0,    0,    0]], dtype=int32)"
      ]
     },
     "execution_count": 189,
     "metadata": {},
     "output_type": "execute_result"
    }
   ],
   "source": [
    "padded_sent = pad_sequences(word_vec,padding='post',maxlen=len(sent))\n",
    "padded_sent"
   ]
  },
  {
   "cell_type": "markdown",
   "id": "c2ee5f89",
   "metadata": {},
   "source": [
    "## Embedding Layer - Real Embedding based on cosine similarity/context similarity"
   ]
  },
  {
   "cell_type": "code",
   "execution_count": 190,
   "id": "7f245a57",
   "metadata": {},
   "outputs": [
    {
     "name": "stderr",
     "output_type": "stream",
     "text": [
      "e:\\IMPORTANT STUFF\\PYTHON\\Notes\\KRISHNAIK_GENAI_UDEMY\\CODES\\SIMPLE RNN\\MYCODE\\newProjEnv\\Lib\\site-packages\\keras\\src\\layers\\core\\embedding.py:97: UserWarning: Argument `input_length` is deprecated. Just remove it.\n",
      "  warnings.warn(\n"
     ]
    }
   ],
   "source": [
    "model = Sequential()    # creating the NN structure sequential\n",
    "dim = 20            # dimension for the embedding layer\n",
    "model.add(Embedding(input_dim=voc,output_dim=dim,input_length = len(sent)))     # embedding layer creation !!!\n",
    "model.compile(optimizer='sgd',loss='mse')\n"
   ]
  },
  {
   "cell_type": "code",
   "execution_count": 191,
   "id": "b80a706c",
   "metadata": {},
   "outputs": [
    {
     "name": "stdout",
     "output_type": "stream",
     "text": [
      "\u001b[1m1/1\u001b[0m \u001b[32m━━━━━━━━━━━━━━━━━━━━\u001b[0m\u001b[37m\u001b[0m \u001b[1m0s\u001b[0m 79ms/step\n"
     ]
    },
    {
     "data": {
      "text/plain": [
       "array([[[-2.83974763e-02,  3.79369520e-02, -1.96084511e-02,\n",
       "          2.34667920e-02,  4.34835665e-02, -1.71406381e-02,\n",
       "          2.70891897e-02, -1.38779394e-02,  1.12969652e-02,\n",
       "          1.25057958e-02, -4.60207835e-02,  1.52049772e-02,\n",
       "         -9.59308073e-03, -3.10332775e-02,  4.76069488e-02,\n",
       "          4.50065024e-02,  2.84823813e-02, -1.92847010e-02,\n",
       "          3.13978232e-02, -1.78305507e-02],\n",
       "        [-4.41440232e-02,  4.90874387e-02, -3.40690501e-02,\n",
       "         -3.13991793e-02,  7.91388750e-03,  5.69830090e-03,\n",
       "          4.47376817e-03,  7.79509544e-04, -1.71301961e-02,\n",
       "         -2.34176964e-03, -4.99409437e-03,  3.82731222e-02,\n",
       "         -3.56982835e-02, -2.42666155e-03,  4.43895794e-02,\n",
       "         -3.46268415e-02, -2.19464302e-03,  1.88204683e-02,\n",
       "         -2.85943151e-02,  2.17725299e-02],\n",
       "        [ 3.24842073e-02, -3.81610282e-02,  3.18554379e-02,\n",
       "         -8.45704228e-03,  6.87099993e-04,  1.19723678e-02,\n",
       "         -1.97519306e-02,  1.10385194e-02, -4.48429585e-02,\n",
       "          4.69483994e-02,  3.47738340e-03,  1.37420557e-02,\n",
       "          2.73872539e-03, -2.39509698e-02,  2.85447501e-02,\n",
       "          2.94714309e-02, -4.50840481e-02, -2.96296924e-03,\n",
       "          7.60384649e-03,  2.66031288e-02],\n",
       "        [-3.66250873e-02,  3.89385112e-02, -4.42255139e-02,\n",
       "         -2.24117395e-02, -4.28394191e-02,  2.37836577e-02,\n",
       "         -4.85832952e-02, -1.86936036e-02, -4.12451141e-02,\n",
       "          4.07044180e-02, -1.55600421e-02, -1.01687089e-02,\n",
       "         -3.95362452e-03,  1.61110274e-02,  2.35168450e-02,\n",
       "          4.30543087e-02, -4.20213118e-02, -1.08994134e-02,\n",
       "          2.90161408e-02, -3.19397077e-02],\n",
       "        [ 4.73863818e-02,  4.19513918e-02, -2.27691289e-02,\n",
       "          3.67503650e-02, -4.28756140e-02, -9.73724201e-03,\n",
       "         -4.63951342e-02, -2.60200985e-02, -2.13529356e-02,\n",
       "         -6.40528277e-03,  4.69937660e-02, -3.92219424e-02,\n",
       "          9.14485380e-03, -3.10854074e-02, -1.19049549e-02,\n",
       "         -5.67131117e-03, -1.83254257e-02,  3.02507915e-02,\n",
       "          3.60365622e-02,  1.72673799e-02],\n",
       "        [ 4.73863818e-02,  4.19513918e-02, -2.27691289e-02,\n",
       "          3.67503650e-02, -4.28756140e-02, -9.73724201e-03,\n",
       "         -4.63951342e-02, -2.60200985e-02, -2.13529356e-02,\n",
       "         -6.40528277e-03,  4.69937660e-02, -3.92219424e-02,\n",
       "          9.14485380e-03, -3.10854074e-02, -1.19049549e-02,\n",
       "         -5.67131117e-03, -1.83254257e-02,  3.02507915e-02,\n",
       "          3.60365622e-02,  1.72673799e-02],\n",
       "        [ 4.73863818e-02,  4.19513918e-02, -2.27691289e-02,\n",
       "          3.67503650e-02, -4.28756140e-02, -9.73724201e-03,\n",
       "         -4.63951342e-02, -2.60200985e-02, -2.13529356e-02,\n",
       "         -6.40528277e-03,  4.69937660e-02, -3.92219424e-02,\n",
       "          9.14485380e-03, -3.10854074e-02, -1.19049549e-02,\n",
       "         -5.67131117e-03, -1.83254257e-02,  3.02507915e-02,\n",
       "          3.60365622e-02,  1.72673799e-02]],\n",
       "\n",
       "       [[-2.83974763e-02,  3.79369520e-02, -1.96084511e-02,\n",
       "          2.34667920e-02,  4.34835665e-02, -1.71406381e-02,\n",
       "          2.70891897e-02, -1.38779394e-02,  1.12969652e-02,\n",
       "          1.25057958e-02, -4.60207835e-02,  1.52049772e-02,\n",
       "         -9.59308073e-03, -3.10332775e-02,  4.76069488e-02,\n",
       "          4.50065024e-02,  2.84823813e-02, -1.92847010e-02,\n",
       "          3.13978232e-02, -1.78305507e-02],\n",
       "        [-4.41440232e-02,  4.90874387e-02, -3.40690501e-02,\n",
       "         -3.13991793e-02,  7.91388750e-03,  5.69830090e-03,\n",
       "          4.47376817e-03,  7.79509544e-04, -1.71301961e-02,\n",
       "         -2.34176964e-03, -4.99409437e-03,  3.82731222e-02,\n",
       "         -3.56982835e-02, -2.42666155e-03,  4.43895794e-02,\n",
       "         -3.46268415e-02, -2.19464302e-03,  1.88204683e-02,\n",
       "         -2.85943151e-02,  2.17725299e-02],\n",
       "        [ 3.24842073e-02, -3.81610282e-02,  3.18554379e-02,\n",
       "         -8.45704228e-03,  6.87099993e-04,  1.19723678e-02,\n",
       "         -1.97519306e-02,  1.10385194e-02, -4.48429585e-02,\n",
       "          4.69483994e-02,  3.47738340e-03,  1.37420557e-02,\n",
       "          2.73872539e-03, -2.39509698e-02,  2.85447501e-02,\n",
       "          2.94714309e-02, -4.50840481e-02, -2.96296924e-03,\n",
       "          7.60384649e-03,  2.66031288e-02],\n",
       "        [-1.80553794e-02,  2.31811292e-02, -5.25344536e-03,\n",
       "         -4.78032120e-02, -3.83872166e-02, -1.12974644e-03,\n",
       "          2.81816237e-02,  3.91713530e-03,  9.48134810e-03,\n",
       "          4.47278656e-02, -1.61684863e-02, -1.34145133e-02,\n",
       "          2.31691338e-02,  1.89675577e-02,  2.17620246e-02,\n",
       "          8.60649347e-03,  2.54236534e-03, -2.49284152e-02,\n",
       "          4.05986644e-02,  2.07320116e-02],\n",
       "        [ 4.73863818e-02,  4.19513918e-02, -2.27691289e-02,\n",
       "          3.67503650e-02, -4.28756140e-02, -9.73724201e-03,\n",
       "         -4.63951342e-02, -2.60200985e-02, -2.13529356e-02,\n",
       "         -6.40528277e-03,  4.69937660e-02, -3.92219424e-02,\n",
       "          9.14485380e-03, -3.10854074e-02, -1.19049549e-02,\n",
       "         -5.67131117e-03, -1.83254257e-02,  3.02507915e-02,\n",
       "          3.60365622e-02,  1.72673799e-02],\n",
       "        [ 4.73863818e-02,  4.19513918e-02, -2.27691289e-02,\n",
       "          3.67503650e-02, -4.28756140e-02, -9.73724201e-03,\n",
       "         -4.63951342e-02, -2.60200985e-02, -2.13529356e-02,\n",
       "         -6.40528277e-03,  4.69937660e-02, -3.92219424e-02,\n",
       "          9.14485380e-03, -3.10854074e-02, -1.19049549e-02,\n",
       "         -5.67131117e-03, -1.83254257e-02,  3.02507915e-02,\n",
       "          3.60365622e-02,  1.72673799e-02],\n",
       "        [ 4.73863818e-02,  4.19513918e-02, -2.27691289e-02,\n",
       "          3.67503650e-02, -4.28756140e-02, -9.73724201e-03,\n",
       "         -4.63951342e-02, -2.60200985e-02, -2.13529356e-02,\n",
       "         -6.40528277e-03,  4.69937660e-02, -3.92219424e-02,\n",
       "          9.14485380e-03, -3.10854074e-02, -1.19049549e-02,\n",
       "         -5.67131117e-03, -1.83254257e-02,  3.02507915e-02,\n",
       "          3.60365622e-02,  1.72673799e-02]],\n",
       "\n",
       "       [[-2.83974763e-02,  3.79369520e-02, -1.96084511e-02,\n",
       "          2.34667920e-02,  4.34835665e-02, -1.71406381e-02,\n",
       "          2.70891897e-02, -1.38779394e-02,  1.12969652e-02,\n",
       "          1.25057958e-02, -4.60207835e-02,  1.52049772e-02,\n",
       "         -9.59308073e-03, -3.10332775e-02,  4.76069488e-02,\n",
       "          4.50065024e-02,  2.84823813e-02, -1.92847010e-02,\n",
       "          3.13978232e-02, -1.78305507e-02],\n",
       "        [ 1.87418573e-02,  3.26010324e-02,  2.99319662e-02,\n",
       "          4.20011207e-03,  4.85658646e-03,  9.68325138e-03,\n",
       "          2.73438357e-02, -3.42127830e-02, -7.69302994e-03,\n",
       "         -2.35291012e-02,  3.32778804e-02,  3.33672874e-02,\n",
       "         -2.89885644e-02,  1.92124769e-03,  6.39474392e-03,\n",
       "          2.54214071e-02,  2.69939750e-03, -2.79969107e-02,\n",
       "         -3.73024940e-02, -3.60645652e-02],\n",
       "        [ 3.24842073e-02, -3.81610282e-02,  3.18554379e-02,\n",
       "         -8.45704228e-03,  6.87099993e-04,  1.19723678e-02,\n",
       "         -1.97519306e-02,  1.10385194e-02, -4.48429585e-02,\n",
       "          4.69483994e-02,  3.47738340e-03,  1.37420557e-02,\n",
       "          2.73872539e-03, -2.39509698e-02,  2.85447501e-02,\n",
       "          2.94714309e-02, -4.50840481e-02, -2.96296924e-03,\n",
       "          7.60384649e-03,  2.66031288e-02],\n",
       "        [ 1.21958628e-02,  2.22989433e-02, -2.28331443e-02,\n",
       "          4.18553464e-02,  4.30932753e-02, -3.03399321e-02,\n",
       "         -3.20551768e-02, -3.62470970e-02, -3.17820795e-02,\n",
       "         -3.65721956e-02, -4.31829691e-02,  2.72912271e-02,\n",
       "          2.85184719e-02,  2.13690884e-02, -1.75057054e-02,\n",
       "          5.36875799e-03,  2.85340883e-02, -3.19807157e-02,\n",
       "          7.02309608e-03,  2.64305584e-02],\n",
       "        [ 4.73863818e-02,  4.19513918e-02, -2.27691289e-02,\n",
       "          3.67503650e-02, -4.28756140e-02, -9.73724201e-03,\n",
       "         -4.63951342e-02, -2.60200985e-02, -2.13529356e-02,\n",
       "         -6.40528277e-03,  4.69937660e-02, -3.92219424e-02,\n",
       "          9.14485380e-03, -3.10854074e-02, -1.19049549e-02,\n",
       "         -5.67131117e-03, -1.83254257e-02,  3.02507915e-02,\n",
       "          3.60365622e-02,  1.72673799e-02],\n",
       "        [ 4.73863818e-02,  4.19513918e-02, -2.27691289e-02,\n",
       "          3.67503650e-02, -4.28756140e-02, -9.73724201e-03,\n",
       "         -4.63951342e-02, -2.60200985e-02, -2.13529356e-02,\n",
       "         -6.40528277e-03,  4.69937660e-02, -3.92219424e-02,\n",
       "          9.14485380e-03, -3.10854074e-02, -1.19049549e-02,\n",
       "         -5.67131117e-03, -1.83254257e-02,  3.02507915e-02,\n",
       "          3.60365622e-02,  1.72673799e-02],\n",
       "        [ 4.73863818e-02,  4.19513918e-02, -2.27691289e-02,\n",
       "          3.67503650e-02, -4.28756140e-02, -9.73724201e-03,\n",
       "         -4.63951342e-02, -2.60200985e-02, -2.13529356e-02,\n",
       "         -6.40528277e-03,  4.69937660e-02, -3.92219424e-02,\n",
       "          9.14485380e-03, -3.10854074e-02, -1.19049549e-02,\n",
       "         -5.67131117e-03, -1.83254257e-02,  3.02507915e-02,\n",
       "          3.60365622e-02,  1.72673799e-02]],\n",
       "\n",
       "       [[-3.75798345e-02,  7.36723095e-03,  3.56075056e-02,\n",
       "         -1.16913319e-02,  1.89481713e-02,  2.55983584e-02,\n",
       "         -4.13933024e-02,  2.45817043e-02,  3.90155353e-02,\n",
       "          1.63812079e-02,  2.46317051e-02, -2.25620028e-02,\n",
       "          4.68005985e-03, -4.43498604e-02, -1.53677687e-02,\n",
       "          3.62962745e-02,  2.32426785e-02, -2.24858411e-02,\n",
       "          8.34067911e-03,  4.92635034e-02],\n",
       "        [ 1.62900127e-02,  1.63529627e-02,  2.61393227e-02,\n",
       "         -3.71395126e-02,  4.48727943e-02,  1.99936889e-02,\n",
       "         -4.74784970e-02,  2.33899839e-02,  4.48226221e-02,\n",
       "          7.66228512e-03,  4.06966247e-02,  3.72640043e-03,\n",
       "         -7.19093159e-03, -1.45729780e-02, -1.61583349e-03,\n",
       "         -1.64106861e-02,  2.56838687e-02,  3.54351290e-02,\n",
       "          4.41708006e-02,  1.23965368e-02],\n",
       "        [-3.87867540e-03,  1.68564580e-02,  4.33975458e-03,\n",
       "          3.28814872e-02,  3.26561071e-02, -8.59408453e-03,\n",
       "         -5.89527190e-04,  9.90594551e-03, -2.88575292e-02,\n",
       "         -3.79868597e-03,  1.36546046e-03,  4.88323234e-02,\n",
       "          1.64457411e-03, -1.03741884e-02, -2.88217794e-02,\n",
       "          3.34565900e-02,  3.82823832e-02, -2.12844852e-02,\n",
       "         -1.15125068e-02, -7.20803812e-03],\n",
       "        [-4.63252924e-02, -7.41369650e-03,  4.52124737e-02,\n",
       "         -6.77882507e-03, -1.22545473e-02, -5.19139692e-03,\n",
       "          8.10464472e-03, -1.48101673e-02,  1.34618618e-02,\n",
       "          4.61032130e-02, -3.61615904e-02,  3.07393931e-02,\n",
       "          9.91336256e-03, -3.72525305e-03,  3.71833108e-02,\n",
       "         -5.35583496e-03, -4.64804657e-02,  2.11751200e-02,\n",
       "          6.96285814e-03,  8.90149921e-03],\n",
       "        [ 1.57100074e-02, -9.04321671e-03, -4.24563661e-02,\n",
       "          3.53982784e-02,  2.27157809e-02, -3.78305539e-02,\n",
       "         -1.41930580e-02,  3.99583690e-02,  7.80316442e-03,\n",
       "         -4.01070938e-02, -1.26588829e-02,  4.67016436e-02,\n",
       "          3.18192728e-02, -3.75053175e-02,  3.27020548e-02,\n",
       "         -2.55300160e-02,  3.45154069e-02,  2.95788161e-02,\n",
       "         -1.29035339e-02,  4.80962060e-02],\n",
       "        [ 4.73863818e-02,  4.19513918e-02, -2.27691289e-02,\n",
       "          3.67503650e-02, -4.28756140e-02, -9.73724201e-03,\n",
       "         -4.63951342e-02, -2.60200985e-02, -2.13529356e-02,\n",
       "         -6.40528277e-03,  4.69937660e-02, -3.92219424e-02,\n",
       "          9.14485380e-03, -3.10854074e-02, -1.19049549e-02,\n",
       "         -5.67131117e-03, -1.83254257e-02,  3.02507915e-02,\n",
       "          3.60365622e-02,  1.72673799e-02],\n",
       "        [ 4.73863818e-02,  4.19513918e-02, -2.27691289e-02,\n",
       "          3.67503650e-02, -4.28756140e-02, -9.73724201e-03,\n",
       "         -4.63951342e-02, -2.60200985e-02, -2.13529356e-02,\n",
       "         -6.40528277e-03,  4.69937660e-02, -3.92219424e-02,\n",
       "          9.14485380e-03, -3.10854074e-02, -1.19049549e-02,\n",
       "         -5.67131117e-03, -1.83254257e-02,  3.02507915e-02,\n",
       "          3.60365622e-02,  1.72673799e-02]],\n",
       "\n",
       "       [[-3.75798345e-02,  7.36723095e-03,  3.56075056e-02,\n",
       "         -1.16913319e-02,  1.89481713e-02,  2.55983584e-02,\n",
       "         -4.13933024e-02,  2.45817043e-02,  3.90155353e-02,\n",
       "          1.63812079e-02,  2.46317051e-02, -2.25620028e-02,\n",
       "          4.68005985e-03, -4.43498604e-02, -1.53677687e-02,\n",
       "          3.62962745e-02,  2.32426785e-02, -2.24858411e-02,\n",
       "          8.34067911e-03,  4.92635034e-02],\n",
       "        [ 1.62900127e-02,  1.63529627e-02,  2.61393227e-02,\n",
       "         -3.71395126e-02,  4.48727943e-02,  1.99936889e-02,\n",
       "         -4.74784970e-02,  2.33899839e-02,  4.48226221e-02,\n",
       "          7.66228512e-03,  4.06966247e-02,  3.72640043e-03,\n",
       "         -7.19093159e-03, -1.45729780e-02, -1.61583349e-03,\n",
       "         -1.64106861e-02,  2.56838687e-02,  3.54351290e-02,\n",
       "          4.41708006e-02,  1.23965368e-02],\n",
       "        [-3.87867540e-03,  1.68564580e-02,  4.33975458e-03,\n",
       "          3.28814872e-02,  3.26561071e-02, -8.59408453e-03,\n",
       "         -5.89527190e-04,  9.90594551e-03, -2.88575292e-02,\n",
       "         -3.79868597e-03,  1.36546046e-03,  4.88323234e-02,\n",
       "          1.64457411e-03, -1.03741884e-02, -2.88217794e-02,\n",
       "          3.34565900e-02,  3.82823832e-02, -2.12844852e-02,\n",
       "         -1.15125068e-02, -7.20803812e-03],\n",
       "        [-4.63252924e-02, -7.41369650e-03,  4.52124737e-02,\n",
       "         -6.77882507e-03, -1.22545473e-02, -5.19139692e-03,\n",
       "          8.10464472e-03, -1.48101673e-02,  1.34618618e-02,\n",
       "          4.61032130e-02, -3.61615904e-02,  3.07393931e-02,\n",
       "          9.91336256e-03, -3.72525305e-03,  3.71833108e-02,\n",
       "         -5.35583496e-03, -4.64804657e-02,  2.11751200e-02,\n",
       "          6.96285814e-03,  8.90149921e-03],\n",
       "        [-2.38823183e-02, -1.39677525e-03,  1.80125721e-02,\n",
       "          2.02768110e-02,  3.34568955e-02, -6.25969097e-03,\n",
       "         -4.35873382e-02, -8.14003870e-03,  6.39085844e-03,\n",
       "         -2.38355882e-02,  1.24149099e-02,  6.36043400e-03,\n",
       "          2.63960101e-02,  1.23367086e-02,  3.67244743e-02,\n",
       "          1.33535899e-02,  8.72742385e-04,  2.45498531e-02,\n",
       "          3.28632332e-02,  3.99260595e-03],\n",
       "        [ 4.73863818e-02,  4.19513918e-02, -2.27691289e-02,\n",
       "          3.67503650e-02, -4.28756140e-02, -9.73724201e-03,\n",
       "         -4.63951342e-02, -2.60200985e-02, -2.13529356e-02,\n",
       "         -6.40528277e-03,  4.69937660e-02, -3.92219424e-02,\n",
       "          9.14485380e-03, -3.10854074e-02, -1.19049549e-02,\n",
       "         -5.67131117e-03, -1.83254257e-02,  3.02507915e-02,\n",
       "          3.60365622e-02,  1.72673799e-02],\n",
       "        [ 4.73863818e-02,  4.19513918e-02, -2.27691289e-02,\n",
       "          3.67503650e-02, -4.28756140e-02, -9.73724201e-03,\n",
       "         -4.63951342e-02, -2.60200985e-02, -2.13529356e-02,\n",
       "         -6.40528277e-03,  4.69937660e-02, -3.92219424e-02,\n",
       "          9.14485380e-03, -3.10854074e-02, -1.19049549e-02,\n",
       "         -5.67131117e-03, -1.83254257e-02,  3.02507915e-02,\n",
       "          3.60365622e-02,  1.72673799e-02]],\n",
       "\n",
       "       [[-4.87822779e-02, -2.90088896e-02, -2.16149688e-02,\n",
       "          4.98827808e-02, -2.56716609e-02, -3.24737802e-02,\n",
       "         -2.03169715e-02, -4.86358069e-02,  4.60611470e-02,\n",
       "         -3.08683403e-02,  2.46735923e-02, -2.66788248e-02,\n",
       "          4.93901409e-02,  4.12501581e-02, -4.20749784e-02,\n",
       "          1.66866072e-02, -4.81882691e-02, -1.07546225e-02,\n",
       "         -3.70496623e-02, -4.45078276e-02],\n",
       "        [-2.83974763e-02,  3.79369520e-02, -1.96084511e-02,\n",
       "          2.34667920e-02,  4.34835665e-02, -1.71406381e-02,\n",
       "          2.70891897e-02, -1.38779394e-02,  1.12969652e-02,\n",
       "          1.25057958e-02, -4.60207835e-02,  1.52049772e-02,\n",
       "         -9.59308073e-03, -3.10332775e-02,  4.76069488e-02,\n",
       "          4.50065024e-02,  2.84823813e-02, -1.92847010e-02,\n",
       "          3.13978232e-02, -1.78305507e-02],\n",
       "        [-2.00208426e-02, -3.91237848e-02, -3.00814267e-02,\n",
       "         -2.44529005e-02,  3.99088375e-02, -7.99474865e-03,\n",
       "         -4.43254374e-02,  3.39434184e-02,  4.79836203e-02,\n",
       "          6.67706877e-03, -2.70841848e-02,  9.20859724e-03,\n",
       "         -2.92488821e-02,  4.17734310e-03,  7.11827353e-03,\n",
       "          1.96530111e-02,  4.17915694e-02,  2.48121060e-02,\n",
       "         -4.79505435e-02,  1.72244944e-02],\n",
       "        [ 3.24842073e-02, -3.81610282e-02,  3.18554379e-02,\n",
       "         -8.45704228e-03,  6.87099993e-04,  1.19723678e-02,\n",
       "         -1.97519306e-02,  1.10385194e-02, -4.48429585e-02,\n",
       "          4.69483994e-02,  3.47738340e-03,  1.37420557e-02,\n",
       "          2.73872539e-03, -2.39509698e-02,  2.85447501e-02,\n",
       "          2.94714309e-02, -4.50840481e-02, -2.96296924e-03,\n",
       "          7.60384649e-03,  2.66031288e-02],\n",
       "        [-1.33057125e-02,  4.74678539e-02,  9.86714289e-03,\n",
       "          1.22719631e-02,  3.02229263e-02,  2.85942890e-02,\n",
       "          3.18457969e-02,  4.45001014e-02,  3.55128385e-02,\n",
       "          3.56755145e-02,  5.03546000e-03, -1.70765072e-03,\n",
       "          1.57363676e-02,  3.29255126e-02, -3.50579843e-02,\n",
       "         -4.53655981e-02,  1.06126554e-02,  1.51641630e-02,\n",
       "         -5.08210808e-03, -6.04133680e-03],\n",
       "        [ 4.73863818e-02,  4.19513918e-02, -2.27691289e-02,\n",
       "          3.67503650e-02, -4.28756140e-02, -9.73724201e-03,\n",
       "         -4.63951342e-02, -2.60200985e-02, -2.13529356e-02,\n",
       "         -6.40528277e-03,  4.69937660e-02, -3.92219424e-02,\n",
       "          9.14485380e-03, -3.10854074e-02, -1.19049549e-02,\n",
       "         -5.67131117e-03, -1.83254257e-02,  3.02507915e-02,\n",
       "          3.60365622e-02,  1.72673799e-02],\n",
       "        [ 4.73863818e-02,  4.19513918e-02, -2.27691289e-02,\n",
       "          3.67503650e-02, -4.28756140e-02, -9.73724201e-03,\n",
       "         -4.63951342e-02, -2.60200985e-02, -2.13529356e-02,\n",
       "         -6.40528277e-03,  4.69937660e-02, -3.92219424e-02,\n",
       "          9.14485380e-03, -3.10854074e-02, -1.19049549e-02,\n",
       "         -5.67131117e-03, -1.83254257e-02,  3.02507915e-02,\n",
       "          3.60365622e-02,  1.72673799e-02]],\n",
       "\n",
       "       [[-2.56377347e-02,  4.80399765e-02, -1.30722746e-02,\n",
       "         -3.96162644e-02, -2.74936110e-03,  4.51244600e-02,\n",
       "          4.00502943e-02,  1.52013414e-02,  1.41241066e-02,\n",
       "          3.32427658e-02, -8.87255743e-03,  2.86294110e-02,\n",
       "         -4.37557809e-02,  4.48850878e-02,  8.51408392e-03,\n",
       "          2.57037394e-02, -2.40690634e-03, -3.51450220e-02,\n",
       "         -2.73617152e-02, -2.68090013e-02],\n",
       "        [ 4.64215018e-02,  5.83977625e-03, -1.11798197e-03,\n",
       "          4.97682951e-02, -9.44875553e-03,  3.31228636e-02,\n",
       "         -4.44705151e-02, -1.23985894e-02, -4.37898152e-02,\n",
       "         -4.73293327e-02,  1.19209997e-02,  4.80172299e-02,\n",
       "         -2.38258727e-02,  3.17766927e-02, -2.16902979e-02,\n",
       "         -4.27089110e-02, -3.57872732e-02, -3.16682830e-02,\n",
       "         -2.84566768e-02,  4.02883999e-02],\n",
       "        [-3.95639427e-02,  2.37570740e-02,  4.36166264e-02,\n",
       "          2.11319216e-02,  1.12118497e-02,  4.27042320e-03,\n",
       "          4.61706854e-02, -4.38179038e-02,  4.55752015e-05,\n",
       "         -5.68602234e-03, -4.99187224e-02,  3.65124829e-02,\n",
       "         -9.35944170e-03,  2.83900984e-02,  2.00964846e-02,\n",
       "          1.17649660e-02, -2.82631759e-02,  4.62671183e-02,\n",
       "          1.10558383e-02, -1.92991644e-03],\n",
       "        [-4.63252924e-02, -7.41369650e-03,  4.52124737e-02,\n",
       "         -6.77882507e-03, -1.22545473e-02, -5.19139692e-03,\n",
       "          8.10464472e-03, -1.48101673e-02,  1.34618618e-02,\n",
       "          4.61032130e-02, -3.61615904e-02,  3.07393931e-02,\n",
       "          9.91336256e-03, -3.72525305e-03,  3.71833108e-02,\n",
       "         -5.35583496e-03, -4.64804657e-02,  2.11751200e-02,\n",
       "          6.96285814e-03,  8.90149921e-03],\n",
       "        [ 4.73863818e-02,  4.19513918e-02, -2.27691289e-02,\n",
       "          3.67503650e-02, -4.28756140e-02, -9.73724201e-03,\n",
       "         -4.63951342e-02, -2.60200985e-02, -2.13529356e-02,\n",
       "         -6.40528277e-03,  4.69937660e-02, -3.92219424e-02,\n",
       "          9.14485380e-03, -3.10854074e-02, -1.19049549e-02,\n",
       "         -5.67131117e-03, -1.83254257e-02,  3.02507915e-02,\n",
       "          3.60365622e-02,  1.72673799e-02],\n",
       "        [ 4.73863818e-02,  4.19513918e-02, -2.27691289e-02,\n",
       "          3.67503650e-02, -4.28756140e-02, -9.73724201e-03,\n",
       "         -4.63951342e-02, -2.60200985e-02, -2.13529356e-02,\n",
       "         -6.40528277e-03,  4.69937660e-02, -3.92219424e-02,\n",
       "          9.14485380e-03, -3.10854074e-02, -1.19049549e-02,\n",
       "         -5.67131117e-03, -1.83254257e-02,  3.02507915e-02,\n",
       "          3.60365622e-02,  1.72673799e-02],\n",
       "        [ 4.73863818e-02,  4.19513918e-02, -2.27691289e-02,\n",
       "          3.67503650e-02, -4.28756140e-02, -9.73724201e-03,\n",
       "         -4.63951342e-02, -2.60200985e-02, -2.13529356e-02,\n",
       "         -6.40528277e-03,  4.69937660e-02, -3.92219424e-02,\n",
       "          9.14485380e-03, -3.10854074e-02, -1.19049549e-02,\n",
       "         -5.67131117e-03, -1.83254257e-02,  3.02507915e-02,\n",
       "          3.60365622e-02,  1.72673799e-02]]], dtype=float32)"
      ]
     },
     "execution_count": 191,
     "metadata": {},
     "output_type": "execute_result"
    }
   ],
   "source": [
    "model.predict(padded_sent)  # this is the embedded word vector from the Embedding Layer"
   ]
  },
  {
   "cell_type": "markdown",
   "id": "5956187b",
   "metadata": {},
   "source": [
    "# IMDB dataset"
   ]
  },
  {
   "cell_type": "code",
   "execution_count": 192,
   "id": "c65f65ed",
   "metadata": {},
   "outputs": [],
   "source": [
    "data = pd.read_csv(r'E:\\IMPORTANT STUFF\\PYTHON\\Notes\\KRISHNAIK_GENAI_UDEMY\\CODES\\SIMPLE RNN\\MYCODE\\IMDB Dataset.csv')"
   ]
  },
  {
   "cell_type": "code",
   "execution_count": 193,
   "id": "f068d1a7",
   "metadata": {},
   "outputs": [
    {
     "data": {
      "text/html": [
       "<div>\n",
       "<style scoped>\n",
       "    .dataframe tbody tr th:only-of-type {\n",
       "        vertical-align: middle;\n",
       "    }\n",
       "\n",
       "    .dataframe tbody tr th {\n",
       "        vertical-align: top;\n",
       "    }\n",
       "\n",
       "    .dataframe thead th {\n",
       "        text-align: right;\n",
       "    }\n",
       "</style>\n",
       "<table border=\"1\" class=\"dataframe\">\n",
       "  <thead>\n",
       "    <tr style=\"text-align: right;\">\n",
       "      <th></th>\n",
       "      <th>review</th>\n",
       "      <th>sentiment</th>\n",
       "    </tr>\n",
       "  </thead>\n",
       "  <tbody>\n",
       "    <tr>\n",
       "      <th>0</th>\n",
       "      <td>One of the other reviewers has mentioned that ...</td>\n",
       "      <td>positive</td>\n",
       "    </tr>\n",
       "    <tr>\n",
       "      <th>1</th>\n",
       "      <td>A wonderful little production. &lt;br /&gt;&lt;br /&gt;The...</td>\n",
       "      <td>positive</td>\n",
       "    </tr>\n",
       "    <tr>\n",
       "      <th>2</th>\n",
       "      <td>I thought this was a wonderful way to spend ti...</td>\n",
       "      <td>positive</td>\n",
       "    </tr>\n",
       "    <tr>\n",
       "      <th>3</th>\n",
       "      <td>Basically there's a family where a little boy ...</td>\n",
       "      <td>negative</td>\n",
       "    </tr>\n",
       "    <tr>\n",
       "      <th>4</th>\n",
       "      <td>Petter Mattei's \"Love in the Time of Money\" is...</td>\n",
       "      <td>positive</td>\n",
       "    </tr>\n",
       "    <tr>\n",
       "      <th>...</th>\n",
       "      <td>...</td>\n",
       "      <td>...</td>\n",
       "    </tr>\n",
       "    <tr>\n",
       "      <th>49995</th>\n",
       "      <td>I thought this movie did a down right good job...</td>\n",
       "      <td>positive</td>\n",
       "    </tr>\n",
       "    <tr>\n",
       "      <th>49996</th>\n",
       "      <td>Bad plot, bad dialogue, bad acting, idiotic di...</td>\n",
       "      <td>negative</td>\n",
       "    </tr>\n",
       "    <tr>\n",
       "      <th>49997</th>\n",
       "      <td>I am a Catholic taught in parochial elementary...</td>\n",
       "      <td>negative</td>\n",
       "    </tr>\n",
       "    <tr>\n",
       "      <th>49998</th>\n",
       "      <td>I'm going to have to disagree with the previou...</td>\n",
       "      <td>negative</td>\n",
       "    </tr>\n",
       "    <tr>\n",
       "      <th>49999</th>\n",
       "      <td>No one expects the Star Trek movies to be high...</td>\n",
       "      <td>negative</td>\n",
       "    </tr>\n",
       "  </tbody>\n",
       "</table>\n",
       "<p>50000 rows × 2 columns</p>\n",
       "</div>"
      ],
      "text/plain": [
       "                                                  review sentiment\n",
       "0      One of the other reviewers has mentioned that ...  positive\n",
       "1      A wonderful little production. <br /><br />The...  positive\n",
       "2      I thought this was a wonderful way to spend ti...  positive\n",
       "3      Basically there's a family where a little boy ...  negative\n",
       "4      Petter Mattei's \"Love in the Time of Money\" is...  positive\n",
       "...                                                  ...       ...\n",
       "49995  I thought this movie did a down right good job...  positive\n",
       "49996  Bad plot, bad dialogue, bad acting, idiotic di...  negative\n",
       "49997  I am a Catholic taught in parochial elementary...  negative\n",
       "49998  I'm going to have to disagree with the previou...  negative\n",
       "49999  No one expects the Star Trek movies to be high...  negative\n",
       "\n",
       "[50000 rows x 2 columns]"
      ]
     },
     "execution_count": 193,
     "metadata": {},
     "output_type": "execute_result"
    }
   ],
   "source": [
    "data"
   ]
  },
  {
   "cell_type": "markdown",
   "id": "24894dd5",
   "metadata": {},
   "source": [
    "# Splitting into Training and Testing datasets"
   ]
  },
  {
   "cell_type": "code",
   "execution_count": 194,
   "id": "3f69c37c",
   "metadata": {},
   "outputs": [],
   "source": [
    "\n",
    "X = data['review']\n",
    "Y = data['sentiment']\n",
    "le = LabelEncoder()\n",
    "Y = le.fit_transform(Y)\n",
    "X_train,X_test,Y_train,Y_test = train_test_split(X,Y,test_size=0.3,random_state=69)"
   ]
  },
  {
   "cell_type": "code",
   "execution_count": 195,
   "id": "dac4453f",
   "metadata": {},
   "outputs": [],
   "source": [
    "X_train_list = X_train.tolist()\n",
    "X_test_list = X_test.tolist()\n",
    "Y_train_list = Y_train.tolist()\n",
    "Y_test_list = Y_test.tolist()\n",
    "Y_train_array = np.array(Y_train_list)\n",
    "Y_test_array = np.array(Y_test_list)"
   ]
  },
  {
   "cell_type": "code",
   "execution_count": null,
   "id": "35017522",
   "metadata": {},
   "outputs": [],
   "source": [
    "\n",
    "X = data['review']\n",
    "Y = data['sentiment']\n",
    "le = LabelEncoder()\n",
    "Y = le.fit_transform(Y)\n",
    "X_train,X_test,Y_train,Y_test = train_test_split(X,Y,test_size=0.3,random_state=69)\n",
    "X_train_list = X_train.tolist()\n",
    "X_test_list = X_test.tolist()\n",
    "Y_train_list = Y_train.tolist()\n",
    "Y_test_list = Y_test.tolist()\n",
    "Y_train_array = np.array(Y_train_list)\n",
    "Y_test_array = np.array(Y_test_list)\n",
    "# tokenizing the datasets & Padding them\n",
    "maxLen = 300\n",
    "# X_train\n",
    "tokenize = Tokenizer(num_words=10000)\n",
    "tokenize.fit_on_texts(X_train_list)\n",
    "tokenized_X_train = tokenize.texts_to_sequences(X_train_list)\n",
    "padded_X_train = pad_sequences(tokenized_X_train,maxlen = maxLen,padding = 'post')\n",
    "\n",
    "\n",
    "# X_test\n",
    "tokenized_X_test = tokenize.texts_to_sequences(X_test_list)\n",
    "padded_X_test = pad_sequences(tokenized_X_test,maxlen = maxLen,padding = 'post')\n",
    "# building and training a simple RNN\n",
    "model = Sequential()\n",
    "model.add(Embedding(input_dim=10000,output_dim=150,input_length = maxLen))\n",
    "model.add(LSTM(64, dropout=0.3, recurrent_dropout=0.3),)\n",
    "model.add(Dense(1,activation='sigmoid',kernel_regularizer=regularizers.l2(0.01)))\n",
    "model.compile(optimizer='adam',loss='binary_crossentropy')\n",
    "# Summary of the model\n",
    "model.build(input_shape=(None, maxLen))\n",
    "\n",
    "# Creating a EarlyStopper for avoiding Overfitting\n",
    "earlystopper = EarlyStopping(monitor='val_loss',patience=4,restore_best_weights=True)\n",
    "model.fit(padded_X_train,Y_train_array,batch_size=30,epochs=30,callbacks=[earlystopper],validation_split=0.2)\n",
    "\n",
    "def sentimentAnalyze(sentence):\n",
    "    tokenized_sentence = tokenize.texts_to_sequences(sentence.lower())\n",
    "    padded_sentence = pad_sequences(tokenized_sentence,maxlen = 300,padding = 'post')\n",
    "    result = model.predict(padded_sentence)\n",
    "    if result[0][0]>0.5:\n",
    "        return (\"Positive Comment!!!\",result[0][0])\n",
    "    else:\n",
    "        return ('Maa chuda, mat, dekh film',result[0][0])\n",
    "\n",
    "print(sentimentAnalyze(\"The movie was good indeed\"))"
   ]
  },
  {
   "cell_type": "markdown",
   "id": "35890560",
   "metadata": {},
   "source": [
    "# Tokenization - Preprocessing steps"
   ]
  },
  {
   "cell_type": "code",
   "execution_count": 196,
   "id": "a4002421",
   "metadata": {},
   "outputs": [],
   "source": [
    "# tokenizing the datasets & Padding them\n",
    "maxLen = 300\n",
    "# X_train\n",
    "tokenize = Tokenizer(num_words=10000)\n",
    "tokenize.fit_on_texts(X_train_list)\n",
    "tokenized_X_train = tokenize.texts_to_sequences(X_train_list)\n",
    "padded_X_train = pad_sequences(tokenized_X_train,maxlen = maxLen,padding = 'post')\n",
    "\n",
    "\n",
    "# X_test\n",
    "tokenized_X_test = tokenize.texts_to_sequences(X_test_list)\n",
    "padded_X_test = pad_sequences(tokenized_X_test,maxlen = maxLen,padding = 'post')\n",
    "\n"
   ]
  },
  {
   "cell_type": "code",
   "execution_count": 197,
   "id": "1aaa03e8",
   "metadata": {},
   "outputs": [
    {
     "name": "stdout",
     "output_type": "stream",
     "text": [
      "(array([0, 1]), array([17527, 17473]))\n"
     ]
    }
   ],
   "source": [
    "print(np.unique(Y_train, return_counts=True))"
   ]
  },
  {
   "cell_type": "markdown",
   "id": "8e2e76ed",
   "metadata": {},
   "source": [
    "# Developing the Model"
   ]
  },
  {
   "cell_type": "code",
   "execution_count": 198,
   "id": "eae84b2a",
   "metadata": {},
   "outputs": [
    {
     "name": "stderr",
     "output_type": "stream",
     "text": [
      "e:\\IMPORTANT STUFF\\PYTHON\\Notes\\KRISHNAIK_GENAI_UDEMY\\CODES\\SIMPLE RNN\\MYCODE\\newProjEnv\\Lib\\site-packages\\keras\\src\\layers\\core\\embedding.py:97: UserWarning: Argument `input_length` is deprecated. Just remove it.\n",
      "  warnings.warn(\n"
     ]
    }
   ],
   "source": [
    "# building and training a simple RNN\n",
    "model = Sequential()\n",
    "model.add(Embedding(input_dim=10000,output_dim=150,input_length = maxLen))\n",
    "model.add(LSTM(64, dropout=0.3, recurrent_dropout=0.3),)\n",
    "model.add(Dense(1,activation='sigmoid',kernel_regularizer=regularizers.l2(0.01)))\n",
    "model.compile(optimizer='adam',loss='binary_crossentropy')"
   ]
  },
  {
   "cell_type": "code",
   "execution_count": 199,
   "id": "0757af11",
   "metadata": {},
   "outputs": [
    {
     "data": {
      "text/html": [
       "<pre style=\"white-space:pre;overflow-x:auto;line-height:normal;font-family:Menlo,'DejaVu Sans Mono',consolas,'Courier New',monospace\"><span style=\"font-weight: bold\">Model: \"sequential_24\"</span>\n",
       "</pre>\n"
      ],
      "text/plain": [
       "\u001b[1mModel: \"sequential_24\"\u001b[0m\n"
      ]
     },
     "metadata": {},
     "output_type": "display_data"
    },
    {
     "data": {
      "text/html": [
       "<pre style=\"white-space:pre;overflow-x:auto;line-height:normal;font-family:Menlo,'DejaVu Sans Mono',consolas,'Courier New',monospace\">┏━━━━━━━━━━━━━━━━━━━━━━━━━━━━━━━━━┳━━━━━━━━━━━━━━━━━━━━━━━━┳━━━━━━━━━━━━━━━┓\n",
       "┃<span style=\"font-weight: bold\"> Layer (type)                    </span>┃<span style=\"font-weight: bold\"> Output Shape           </span>┃<span style=\"font-weight: bold\">       Param # </span>┃\n",
       "┡━━━━━━━━━━━━━━━━━━━━━━━━━━━━━━━━━╇━━━━━━━━━━━━━━━━━━━━━━━━╇━━━━━━━━━━━━━━━┩\n",
       "│ embedding_24 (<span style=\"color: #0087ff; text-decoration-color: #0087ff\">Embedding</span>)        │ (<span style=\"color: #00d7ff; text-decoration-color: #00d7ff\">None</span>, <span style=\"color: #00af00; text-decoration-color: #00af00\">300</span>, <span style=\"color: #00af00; text-decoration-color: #00af00\">150</span>)       │     <span style=\"color: #00af00; text-decoration-color: #00af00\">1,500,000</span> │\n",
       "├─────────────────────────────────┼────────────────────────┼───────────────┤\n",
       "│ lstm (<span style=\"color: #0087ff; text-decoration-color: #0087ff\">LSTM</span>)                     │ (<span style=\"color: #00d7ff; text-decoration-color: #00d7ff\">None</span>, <span style=\"color: #00af00; text-decoration-color: #00af00\">64</span>)             │        <span style=\"color: #00af00; text-decoration-color: #00af00\">55,040</span> │\n",
       "├─────────────────────────────────┼────────────────────────┼───────────────┤\n",
       "│ dense_15 (<span style=\"color: #0087ff; text-decoration-color: #0087ff\">Dense</span>)                │ (<span style=\"color: #00d7ff; text-decoration-color: #00d7ff\">None</span>, <span style=\"color: #00af00; text-decoration-color: #00af00\">1</span>)              │            <span style=\"color: #00af00; text-decoration-color: #00af00\">65</span> │\n",
       "└─────────────────────────────────┴────────────────────────┴───────────────┘\n",
       "</pre>\n"
      ],
      "text/plain": [
       "┏━━━━━━━━━━━━━━━━━━━━━━━━━━━━━━━━━┳━━━━━━━━━━━━━━━━━━━━━━━━┳━━━━━━━━━━━━━━━┓\n",
       "┃\u001b[1m \u001b[0m\u001b[1mLayer (type)                   \u001b[0m\u001b[1m \u001b[0m┃\u001b[1m \u001b[0m\u001b[1mOutput Shape          \u001b[0m\u001b[1m \u001b[0m┃\u001b[1m \u001b[0m\u001b[1m      Param #\u001b[0m\u001b[1m \u001b[0m┃\n",
       "┡━━━━━━━━━━━━━━━━━━━━━━━━━━━━━━━━━╇━━━━━━━━━━━━━━━━━━━━━━━━╇━━━━━━━━━━━━━━━┩\n",
       "│ embedding_24 (\u001b[38;5;33mEmbedding\u001b[0m)        │ (\u001b[38;5;45mNone\u001b[0m, \u001b[38;5;34m300\u001b[0m, \u001b[38;5;34m150\u001b[0m)       │     \u001b[38;5;34m1,500,000\u001b[0m │\n",
       "├─────────────────────────────────┼────────────────────────┼───────────────┤\n",
       "│ lstm (\u001b[38;5;33mLSTM\u001b[0m)                     │ (\u001b[38;5;45mNone\u001b[0m, \u001b[38;5;34m64\u001b[0m)             │        \u001b[38;5;34m55,040\u001b[0m │\n",
       "├─────────────────────────────────┼────────────────────────┼───────────────┤\n",
       "│ dense_15 (\u001b[38;5;33mDense\u001b[0m)                │ (\u001b[38;5;45mNone\u001b[0m, \u001b[38;5;34m1\u001b[0m)              │            \u001b[38;5;34m65\u001b[0m │\n",
       "└─────────────────────────────────┴────────────────────────┴───────────────┘\n"
      ]
     },
     "metadata": {},
     "output_type": "display_data"
    },
    {
     "data": {
      "text/html": [
       "<pre style=\"white-space:pre;overflow-x:auto;line-height:normal;font-family:Menlo,'DejaVu Sans Mono',consolas,'Courier New',monospace\"><span style=\"font-weight: bold\"> Total params: </span><span style=\"color: #00af00; text-decoration-color: #00af00\">1,555,105</span> (5.93 MB)\n",
       "</pre>\n"
      ],
      "text/plain": [
       "\u001b[1m Total params: \u001b[0m\u001b[38;5;34m1,555,105\u001b[0m (5.93 MB)\n"
      ]
     },
     "metadata": {},
     "output_type": "display_data"
    },
    {
     "data": {
      "text/html": [
       "<pre style=\"white-space:pre;overflow-x:auto;line-height:normal;font-family:Menlo,'DejaVu Sans Mono',consolas,'Courier New',monospace\"><span style=\"font-weight: bold\"> Trainable params: </span><span style=\"color: #00af00; text-decoration-color: #00af00\">1,555,105</span> (5.93 MB)\n",
       "</pre>\n"
      ],
      "text/plain": [
       "\u001b[1m Trainable params: \u001b[0m\u001b[38;5;34m1,555,105\u001b[0m (5.93 MB)\n"
      ]
     },
     "metadata": {},
     "output_type": "display_data"
    },
    {
     "data": {
      "text/html": [
       "<pre style=\"white-space:pre;overflow-x:auto;line-height:normal;font-family:Menlo,'DejaVu Sans Mono',consolas,'Courier New',monospace\"><span style=\"font-weight: bold\"> Non-trainable params: </span><span style=\"color: #00af00; text-decoration-color: #00af00\">0</span> (0.00 B)\n",
       "</pre>\n"
      ],
      "text/plain": [
       "\u001b[1m Non-trainable params: \u001b[0m\u001b[38;5;34m0\u001b[0m (0.00 B)\n"
      ]
     },
     "metadata": {},
     "output_type": "display_data"
    }
   ],
   "source": [
    "# Summary of the model\n",
    "model.build(input_shape=(None, maxLen))\n",
    "model.summary()"
   ]
  },
  {
   "cell_type": "code",
   "execution_count": 200,
   "id": "8a12b850",
   "metadata": {},
   "outputs": [
    {
     "name": "stdout",
     "output_type": "stream",
     "text": [
      "Epoch 1/30\n",
      "\u001b[1m934/934\u001b[0m \u001b[32m━━━━━━━━━━━━━━━━━━━━\u001b[0m\u001b[37m\u001b[0m \u001b[1m103s\u001b[0m 108ms/step - loss: 0.6915 - val_loss: 0.6604\n",
      "Epoch 2/30\n",
      "\u001b[1m934/934\u001b[0m \u001b[32m━━━━━━━━━━━━━━━━━━━━\u001b[0m\u001b[37m\u001b[0m \u001b[1m101s\u001b[0m 108ms/step - loss: 0.6615 - val_loss: 0.6525\n",
      "Epoch 3/30\n",
      "\u001b[1m934/934\u001b[0m \u001b[32m━━━━━━━━━━━━━━━━━━━━\u001b[0m\u001b[37m\u001b[0m \u001b[1m101s\u001b[0m 108ms/step - loss: 0.4964 - val_loss: 0.3398\n",
      "Epoch 4/30\n",
      "\u001b[1m934/934\u001b[0m \u001b[32m━━━━━━━━━━━━━━━━━━━━\u001b[0m\u001b[37m\u001b[0m \u001b[1m101s\u001b[0m 108ms/step - loss: 0.2795 - val_loss: 0.2931\n",
      "Epoch 5/30\n",
      "\u001b[1m934/934\u001b[0m \u001b[32m━━━━━━━━━━━━━━━━━━━━\u001b[0m\u001b[37m\u001b[0m \u001b[1m101s\u001b[0m 109ms/step - loss: 0.2110 - val_loss: 0.3020\n",
      "Epoch 6/30\n",
      "\u001b[1m934/934\u001b[0m \u001b[32m━━━━━━━━━━━━━━━━━━━━\u001b[0m\u001b[37m\u001b[0m \u001b[1m102s\u001b[0m 109ms/step - loss: 0.1683 - val_loss: 0.3051\n",
      "Epoch 7/30\n",
      "\u001b[1m934/934\u001b[0m \u001b[32m━━━━━━━━━━━━━━━━━━━━\u001b[0m\u001b[37m\u001b[0m \u001b[1m102s\u001b[0m 109ms/step - loss: 0.1351 - val_loss: 0.3384\n",
      "Epoch 8/30\n",
      "\u001b[1m934/934\u001b[0m \u001b[32m━━━━━━━━━━━━━━━━━━━━\u001b[0m\u001b[37m\u001b[0m \u001b[1m101s\u001b[0m 108ms/step - loss: 0.1094 - val_loss: 0.3539\n"
     ]
    },
    {
     "data": {
      "text/plain": [
       "<keras.src.callbacks.history.History at 0x1f4845496d0>"
      ]
     },
     "execution_count": 200,
     "metadata": {},
     "output_type": "execute_result"
    }
   ],
   "source": [
    "# Creating a EarlyStopper for avoiding Overfitting\n",
    "earlystopper = EarlyStopping(monitor='val_loss',patience=4,restore_best_weights=True)\n",
    "model.fit(padded_X_train,Y_train_array,batch_size=30,epochs=30,callbacks=[earlystopper],validation_split=0.2)"
   ]
  },
  {
   "cell_type": "code",
   "execution_count": 201,
   "id": "ef34e8cc",
   "metadata": {},
   "outputs": [
    {
     "name": "stderr",
     "output_type": "stream",
     "text": [
      "WARNING:absl:You are saving your model as an HDF5 file via `model.save()` or `keras.saving.save_model(model)`. This file format is considered legacy. We recommend using instead the native Keras format, e.g. `model.save('my_model.keras')` or `keras.saving.save_model(model, 'my_model.keras')`. \n"
     ]
    }
   ],
   "source": [
    "# Saving the model\n",
    "model.save('modelLSTMRNN.h5')"
   ]
  },
  {
   "cell_type": "markdown",
   "id": "b3288b70",
   "metadata": {},
   "source": [
    "# Model Prediction"
   ]
  },
  {
   "cell_type": "code",
   "execution_count": 267,
   "id": "12afb1bf",
   "metadata": {},
   "outputs": [
    {
     "name": "stdout",
     "output_type": "stream",
     "text": [
      "\u001b[1m1/1\u001b[0m \u001b[32m━━━━━━━━━━━━━━━━━━━━\u001b[0m\u001b[37m\u001b[0m \u001b[1m0s\u001b[0m 45ms/step\n",
      "('Maa chuda, mat dekh film', np.float32(0.44543988))\n"
     ]
    }
   ],
   "source": [
    "def sentimentAnalyze(sentence):\n",
    "    tokenized_sentence = tokenize.texts_to_sequences([sentence.lower()])\n",
    "    padded_sentence = pad_sequences(tokenized_sentence,maxlen = 300,padding = 'post')\n",
    "    result = model.predict(padded_sentence)\n",
    "    if result[0][0]>0.5:\n",
    "        return (\"Positive Comment!!!\",result[0][0])\n",
    "    else:\n",
    "        return ('Maa chuda, mat dekh film',result[0][0])\n",
    "\n",
    "print(sentimentAnalyze(\"Not my type!!\"))"
   ]
  },
  {
   "cell_type": "code",
   "execution_count": null,
   "id": "77f3fd71",
   "metadata": {},
   "outputs": [],
   "source": []
  },
  {
   "cell_type": "code",
   "execution_count": null,
   "id": "b215922c",
   "metadata": {},
   "outputs": [],
   "source": []
  }
 ],
 "metadata": {
  "kernelspec": {
   "display_name": "newProjEnv (3.13.3)",
   "language": "python",
   "name": "python3"
  },
  "language_info": {
   "codemirror_mode": {
    "name": "ipython",
    "version": 3
   },
   "file_extension": ".py",
   "mimetype": "text/x-python",
   "name": "python",
   "nbconvert_exporter": "python",
   "pygments_lexer": "ipython3",
   "version": "3.13.3"
  }
 },
 "nbformat": 4,
 "nbformat_minor": 5
}
